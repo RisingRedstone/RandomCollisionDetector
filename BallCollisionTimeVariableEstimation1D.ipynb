{
 "cells": [
  {
   "cell_type": "code",
   "execution_count": 1,
   "id": "ed0d94e8-fa94-4fe2-af7f-72a6a379fa05",
   "metadata": {},
   "outputs": [],
   "source": [
    "#In this notebook, we estimate the time constants T_d and T_p using linear regression by taking time estimations E[T] of many points with different N and K values"
   ]
  },
  {
   "cell_type": "code",
   "execution_count": 80,
   "id": "4e88ebb6-3015-4cf0-8803-e37e9b388ef9",
   "metadata": {},
   "outputs": [],
   "source": [
    "import numpy as np\n",
    "import random\n",
    "import time\n",
    "import math"
   ]
  },
  {
   "cell_type": "code",
   "execution_count": 3,
   "id": "42e6dece-feca-4639-8a2a-692f61a43914",
   "metadata": {},
   "outputs": [],
   "source": [
    "def CollisionCalc(X0, X1, R):\n",
    "    return abs(X0-X1) < (2 * R)\n",
    "\n",
    "def TotalCollisions(Points, R):\n",
    "    calc=  0\n",
    "    for i in range(len(Points)):\n",
    "        j = i+1\n",
    "        while j < len(Points):\n",
    "            calc+=CollisionCalc(Points[i], Points[j], R)\n",
    "            j+=1\n",
    "\n",
    "    return calc"
   ]
  },
  {
   "cell_type": "code",
   "execution_count": 4,
   "id": "47d12dd8-ad44-4bc5-a867-c8d8daaf3d1e",
   "metadata": {},
   "outputs": [],
   "source": [
    "def generateSample(N, K, Samples=1000):\n",
    "    Dataset = []\n",
    "    DatasetK = np.random.random((Samples, K))\n",
    "    for x in range(Samples):\n",
    "        Partitions = [[] for x in range(N)]\n",
    "        #add values to partitions\n",
    "        for i in range(K):\n",
    "            Partitions[int((DatasetK[x][i]*N)-(1e-5))].append(DatasetK[x][i])\n",
    "\n",
    "        Dataset.append(Partitions)\n",
    "    return Dataset"
   ]
  },
  {
   "cell_type": "code",
   "execution_count": 5,
   "id": "0c36aa34-9bb2-4ab0-9f1d-427283904b73",
   "metadata": {},
   "outputs": [],
   "source": [
    "def SampleTest(N, K, Dataset, R=0.004):\n",
    "    Cols = []\n",
    "    for dat in Dataset:\n",
    "        Cols.append(0)\n",
    "        for i in range(N-1):\n",
    "            if len(dat[i]) == 0:\n",
    "                continue\n",
    "            Cols[-1]+=TotalCollisions(dat[i]+dat[i+1], R)\n",
    "    return Cols"
   ]
  },
  {
   "cell_type": "code",
   "execution_count": 6,
   "id": "7df63bb9-ca8c-46e4-963d-f2ae8a2dbfdf",
   "metadata": {},
   "outputs": [],
   "source": [
    "def EstimateTimeSample(N, K, R=0.004, Samples=1000):\n",
    "    DataSet = generateSample(N, K, Samples=Samples)\n",
    "    tstart = time.time()\n",
    "    Ans = SampleTest(N, K, DataSet, R = R)\n",
    "    return (time.time()-tstart)/Samples"
   ]
  },
  {
   "cell_type": "code",
   "execution_count": 7,
   "id": "1413ab0a-4a98-4077-8b0b-a0496761559e",
   "metadata": {},
   "outputs": [],
   "source": [
    "def DataSet(Nlow, Nhigh, Nstep, Klow, Khigh, Kstep, Samples = 20):\n",
    "    timeSteps = []\n",
    "    for i in range(Samples):\n",
    "        N = random.randint(int(Nlow/Nstep), int(Nhigh/Nstep))*Nstep\n",
    "        K = random.randint(int(Klow/Kstep), int(Khigh/Kstep))*Kstep\n",
    "        timeSteps.append([N, K, EstimateTimeSample(N, K, R=0.004, Samples=100)])\n",
    "    return timeSteps"
   ]
  },
  {
   "cell_type": "code",
   "execution_count": 37,
   "id": "f1147e4b-80bf-4ba5-9de1-becfe8c6c9b5",
   "metadata": {},
   "outputs": [],
   "source": [
    "def DataSetPrep(Dataset):\n",
    "    #change the (N, K, E[T]) fields in dataset to (N, 2K(K-1)(N-1)/N^2, E[T])\n",
    "    Dat = []\n",
    "    for x in range(len(Dataset)):\n",
    "        n = Dataset[x][0]\n",
    "        k = Dataset[x][1]\n",
    "        t = Dataset[x][2]\n",
    "        Dat.append([n, 2*k*(k-1)*(n-1)/(n*n), t])\n",
    "    return Dat"
   ]
  },
  {
   "cell_type": "code",
   "execution_count": 70,
   "id": "b4401bdb-f08f-4494-a50e-e8e838e2bdb4",
   "metadata": {},
   "outputs": [],
   "source": [
    "X = DataSet(100, 3000, 100, 20, 300, 10, Samples=200)"
   ]
  },
  {
   "cell_type": "code",
   "execution_count": 87,
   "id": "38d12ccd-26bb-4d8b-9fd7-14aaa1742143",
   "metadata": {},
   "outputs": [
    {
     "name": "stdout",
     "output_type": "stream",
     "text": [
      "[2.00000000e+03 2.50000000e+02 1.00063086e-03]\n"
     ]
    }
   ],
   "source": [
    "X = np.array(X)\n",
    "print(X[0])"
   ]
  },
  {
   "cell_type": "code",
   "execution_count": 72,
   "id": "2a417bc8-decf-48e2-b9ab-08bb39079fb1",
   "metadata": {},
   "outputs": [],
   "source": [
    "Y = DataSetPrep(X)"
   ]
  },
  {
   "cell_type": "code",
   "execution_count": 73,
   "id": "fd38f159-fbec-48b9-a448-873a5f429502",
   "metadata": {},
   "outputs": [],
   "source": [
    "def SampleDatasetToLinearRegForm(Dataset):\n",
    "    X = []\n",
    "    Y = []\n",
    "    for d in Dataset:\n",
    "        X.append([d[0], d[1], 1])\n",
    "        Y.append(d[2])\n",
    "    return (np.array(X), np.array(Y))"
   ]
  },
  {
   "cell_type": "code",
   "execution_count": 74,
   "id": "596eb6fc-9302-40c3-9a2f-d7fbb3ecc3db",
   "metadata": {},
   "outputs": [],
   "source": [
    "Z = SampleDatasetToLinearRegForm(Y)"
   ]
  },
  {
   "cell_type": "code",
   "execution_count": 75,
   "id": "7e02f812-512c-49ca-893f-d03409a722fb",
   "metadata": {},
   "outputs": [],
   "source": [
    "def linearRegression(X, Y):\n",
    "    Vars = np.matmul(np.linalg.inv(np.matmul(X.transpose(), X)), np.matmul(X.transpose(), Y))\n",
    "    return Vars"
   ]
  },
  {
   "cell_type": "code",
   "execution_count": 76,
   "id": "e217f247-de0c-4621-b042-3fe00ddf36e9",
   "metadata": {},
   "outputs": [],
   "source": [
    "T_p, T_d, C = linearRegression(Z[0], Z[1])"
   ]
  },
  {
   "cell_type": "code",
   "execution_count": 77,
   "id": "84087874-0aa4-41d0-a52d-7ef3337bf22f",
   "metadata": {},
   "outputs": [
    {
     "name": "stdout",
     "output_type": "stream",
     "text": [
      "1.8603147966921272e-07 1.0537108325436089e-06 0.00019701972469200356\n"
     ]
    }
   ],
   "source": [
    "print(T_p, T_d, C)"
   ]
  },
  {
   "cell_type": "code",
   "execution_count": 99,
   "id": "3f468741-0da6-41af-9f32-869fddbeac3c",
   "metadata": {},
   "outputs": [],
   "source": [
    "ratio = T_d/T_p\n",
    "Value = np.sqrt(2 * X[:,1] * (X[:,1]-1) * (X[:,0]-1) * ratio)"
   ]
  },
  {
   "cell_type": "code",
   "execution_count": 103,
   "id": "7cec6e67-9a8b-4504-9024-3f52c48089d6",
   "metadata": {},
   "outputs": [
    {
     "name": "stdout",
     "output_type": "stream",
     "text": [
      "[35545.55901969 37528.29131314  9325.02244551 19952.54411658\n",
      "  5104.32203246  4908.76005979 28241.97970221  4908.76005979\n",
      " 47921.13315608 32317.7778581   3477.35901744 14186.27160121\n",
      "  8886.13894124 36877.73091293  9617.54730526 35681.09316877\n",
      " 15651.24728011 13242.85980184 40926.82624624  2461.10405151\n",
      "  1222.70317646 30086.20027359 10221.79283679  8886.13894124\n",
      " 21266.10366083 24037.04781194  5329.46314118 28241.97970221\n",
      " 11465.84763369 10568.94049521 42805.87405858 16265.765254\n",
      " 24497.09687256 10146.7418323   1675.3025208  44423.9801503\n",
      " 14698.0886576  16277.27836924 18180.0532141  39178.24888704\n",
      "  5061.77214196 44423.9801503   8255.44866331  2436.63728475\n",
      " 37915.22611743  9452.27272907 13137.24567592 20223.00029837\n",
      " 13177.76670514  2255.40792489 31066.58538002 33705.05390965\n",
      " 36285.65075198 27942.01604825 31012.69682451  8153.98302885\n",
      " 44423.9801503  18832.34945705 17942.4882622  17052.62682486\n",
      " 25894.1044307  30861.15135256  2462.47353179 16943.40513312\n",
      " 16265.765254   30943.61845819  2237.57132439 24497.09687256\n",
      " 16223.31768422  7714.75483243 15923.63069944 46172.55675342\n",
      " 10696.59218695 16660.7612874  12384.81521634  4831.23886306\n",
      " 16678.36144725  4908.76005979 33618.93510527  8484.56130855\n",
      "  7190.67360147 22558.47410423  4272.42687488 37075.75893579\n",
      " 27191.05110652 24278.62581722 30865.71400816  1040.24213128\n",
      "  1416.63404149 24427.38657745 19722.2104411  30086.20027359\n",
      "  7818.75642583 15196.10881572 24071.30559295 11506.72103713\n",
      " 30205.13124234 22040.21595777  6581.00248608  8666.15228846\n",
      "  4272.42687488  6581.00248608 42805.87405858 27191.05110652\n",
      " 14383.04062867  9193.35658271  4301.14489798  9057.00728876\n",
      "  8925.22669731  8520.97669647  5484.35844435 39578.25159209\n",
      "  7770.33221258 46209.48618515  9564.7459949  13840.09435016\n",
      "  7882.22123648 13747.55937103 41161.85510937 31066.58538002\n",
      "  2897.20435776 13840.09435016 32749.1313045  16162.76510664\n",
      " 26296.96034099 20776.29662426 17868.95096837 35433.74071567\n",
      "  3085.88390513 11791.34901842  5948.59049732 19938.26823959\n",
      " 21890.85433939  1557.61298255  2562.31007988 36017.31979806\n",
      " 38689.93741943 23052.18737333 26712.36675543 27669.7077705\n",
      "   632.63206002 12949.49041153 13056.71789367  3477.35901744\n",
      " 29915.71754769 11226.87169691 22397.24349026  6123.33821533\n",
      " 28406.45769929 14374.5018587   7122.70614204 22017.95746062\n",
      " 21815.10933977 13831.75261051 22260.29063948 15131.18233183\n",
      " 28827.53859352 48750.37983176 18195.27282587 30179.19599519\n",
      " 15923.63069944 26483.95424717 19288.74214801 37457.97397865\n",
      "  3704.57622349 14002.69544673  4944.75112063 22245.42931065\n",
      " 40926.82624624  6581.00248608  1222.70317646 32390.27965185\n",
      " 28107.55238618 28686.77617313 19762.39581994 21336.30211613\n",
      "  9325.02244551 25189.61350162 22040.21595777 20514.24978348\n",
      " 32317.7778581   5948.69027069 14903.91360625 16374.0767479\n",
      "  2653.55543223 38757.33315073  5617.0719673  23391.46387654\n",
      "  4571.66309443 17093.78482476 15966.69079587 14903.91360625\n",
      " 11715.00733799  9746.99337416  1054.04857927 31526.43608947\n",
      "  3838.45840358 11983.01512334 29709.57738068 29287.90060399]\n"
     ]
    }
   ],
   "source": [
    "print(Value-X[:,0])"
   ]
  },
  {
   "cell_type": "code",
   "execution_count": 105,
   "id": "46d1ae39-450a-495d-8f3a-ab1f2fdc7299",
   "metadata": {},
   "outputs": [],
   "source": [
    "#conclusion: In 1-dimensional case, the most optimized version of the grid is where the grid size is equal to the ball size radius 0.004\n",
    "#This is true for most grid sizes unless the balls are very small in size"
   ]
  },
  {
   "cell_type": "code",
   "execution_count": null,
   "id": "295b4373-0656-4f9b-a2a3-81dfa0c23e05",
   "metadata": {},
   "outputs": [],
   "source": []
  }
 ],
 "metadata": {
  "kernelspec": {
   "display_name": "Python 3 (ipykernel)",
   "language": "python",
   "name": "python3"
  },
  "language_info": {
   "codemirror_mode": {
    "name": "ipython",
    "version": 3
   },
   "file_extension": ".py",
   "mimetype": "text/x-python",
   "name": "python",
   "nbconvert_exporter": "python",
   "pygments_lexer": "ipython3",
   "version": "3.10.9"
  }
 },
 "nbformat": 4,
 "nbformat_minor": 5
}
