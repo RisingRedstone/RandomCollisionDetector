{
 "cells": [
  {
   "cell_type": "code",
   "execution_count": 1,
   "id": "ed0d94e8-fa94-4fe2-af7f-72a6a379fa05",
   "metadata": {},
   "outputs": [],
   "source": [
    "#In this notebook, we estimate the time constants T_d and T_p using linear regression by taking time estimations E[T] of many points with different N and K values for 1 dimensional case"
   ]
  },
  {
   "cell_type": "code",
   "execution_count": 107,
   "id": "4e88ebb6-3015-4cf0-8803-e37e9b388ef9",
   "metadata": {},
   "outputs": [],
   "source": [
    "import numpy as np\n",
    "import random\n",
    "import time\n",
    "import math"
   ]
  },
  {
   "cell_type": "code",
   "execution_count": 108,
   "id": "42e6dece-feca-4639-8a2a-692f61a43914",
   "metadata": {},
   "outputs": [],
   "source": [
    "def CollisionCalc(X0, X1, R):\n",
    "    return abs(X0-X1) < (2 * R)\n",
    "\n",
    "def TotalCollisions(Points, R):\n",
    "    calc=  0\n",
    "    for i in range(len(Points)):\n",
    "        j = i+1\n",
    "        while j < len(Points):\n",
    "            calc+=CollisionCalc(Points[i], Points[j], R)\n",
    "            j+=1\n",
    "\n",
    "    return calc"
   ]
  },
  {
   "cell_type": "code",
   "execution_count": 109,
   "id": "47d12dd8-ad44-4bc5-a867-c8d8daaf3d1e",
   "metadata": {},
   "outputs": [],
   "source": [
    "def generateSample(N, K, Samples=1000):\n",
    "    Dataset = []\n",
    "    DatasetK = np.random.random((Samples, K))\n",
    "    for x in range(Samples):\n",
    "        Partitions = [[] for x in range(N)]\n",
    "        #add values to partitions\n",
    "        for i in range(K):\n",
    "            Partitions[int((DatasetK[x][i]*N)-(1e-5))].append(DatasetK[x][i])\n",
    "\n",
    "        Dataset.append(Partitions)\n",
    "    return Dataset"
   ]
  },
  {
   "cell_type": "code",
   "execution_count": 125,
   "id": "0c36aa34-9bb2-4ab0-9f1d-427283904b73",
   "metadata": {},
   "outputs": [],
   "source": [
    "def SampleTest(N, Dataset, R=0.004):\n",
    "    Cols = []\n",
    "    for dat in Dataset:\n",
    "        Cols.append(0)\n",
    "        for i in range(N-1):\n",
    "            if len(dat[i]) == 0:\n",
    "                continue\n",
    "            Cols[-1]+=TotalCollisions(dat[i]+dat[i+1], R)\n",
    "    return Cols"
   ]
  },
  {
   "cell_type": "code",
   "execution_count": 126,
   "id": "7df63bb9-ca8c-46e4-963d-f2ae8a2dbfdf",
   "metadata": {},
   "outputs": [],
   "source": [
    "def EstimateTimeSample(N, K, R=0.004, Samples=1000):\n",
    "    DataSet = generateSample(N, K, Samples=Samples)\n",
    "    tstart = time.time()\n",
    "    Ans = SampleTest(N, DataSet, R = R)\n",
    "    return (time.time()-tstart)/Samples"
   ]
  },
  {
   "cell_type": "code",
   "execution_count": 112,
   "id": "1413ab0a-4a98-4077-8b0b-a0496761559e",
   "metadata": {},
   "outputs": [],
   "source": [
    "def DataSet(Nlow, Nhigh, Nstep, Klow, Khigh, Kstep, Samples = 20):\n",
    "    timeSteps = []\n",
    "    for i in range(Samples):\n",
    "        N = random.randint(int(Nlow/Nstep), int(Nhigh/Nstep))*Nstep\n",
    "        K = random.randint(int(Klow/Kstep), int(Khigh/Kstep))*Kstep\n",
    "        timeSteps.append([N, K, EstimateTimeSample(N, K, R=0.004, Samples=100)])\n",
    "    return timeSteps"
   ]
  },
  {
   "cell_type": "code",
   "execution_count": 113,
   "id": "f1147e4b-80bf-4ba5-9de1-becfe8c6c9b5",
   "metadata": {},
   "outputs": [],
   "source": [
    "def DataSetPrep(Dataset):\n",
    "    #change the (N, K, E[T]) fields in dataset to (N, 2K(K-1)(N-1)/N^2, E[T])\n",
    "    Dat = []\n",
    "    for x in range(len(Dataset)):\n",
    "        n = Dataset[x][0]\n",
    "        k = Dataset[x][1]\n",
    "        t = Dataset[x][2]\n",
    "        Dat.append([n, 2*k*(k-1)*(n-1)/(n*n), t])\n",
    "    return Dat"
   ]
  },
  {
   "cell_type": "code",
   "execution_count": 114,
   "id": "b4401bdb-f08f-4494-a50e-e8e838e2bdb4",
   "metadata": {},
   "outputs": [],
   "source": [
    "X = DataSet(100, 3000, 100, 20, 300, 10, Samples=300)"
   ]
  },
  {
   "cell_type": "code",
   "execution_count": 115,
   "id": "38d12ccd-26bb-4d8b-9fd7-14aaa1742143",
   "metadata": {},
   "outputs": [
    {
     "name": "stdout",
     "output_type": "stream",
     "text": [
      "[1.50000000e+03 2.00000000e+01 1.84402466e-04]\n"
     ]
    }
   ],
   "source": [
    "X = np.array(X)\n",
    "print(X[0])"
   ]
  },
  {
   "cell_type": "code",
   "execution_count": 116,
   "id": "2a417bc8-decf-48e2-b9ab-08bb39079fb1",
   "metadata": {},
   "outputs": [],
   "source": [
    "Y = DataSetPrep(X)"
   ]
  },
  {
   "cell_type": "code",
   "execution_count": 117,
   "id": "fd38f159-fbec-48b9-a448-873a5f429502",
   "metadata": {},
   "outputs": [],
   "source": [
    "def SampleDatasetToLinearRegForm(Dataset):\n",
    "    X = []\n",
    "    Y = []\n",
    "    for d in Dataset:\n",
    "        X.append([d[0], d[1], 1])\n",
    "        Y.append(d[2])\n",
    "    return (np.array(X), np.array(Y))"
   ]
  },
  {
   "cell_type": "code",
   "execution_count": 118,
   "id": "596eb6fc-9302-40c3-9a2f-d7fbb3ecc3db",
   "metadata": {},
   "outputs": [],
   "source": [
    "Z = SampleDatasetToLinearRegForm(Y)"
   ]
  },
  {
   "cell_type": "code",
   "execution_count": 119,
   "id": "7e02f812-512c-49ca-893f-d03409a722fb",
   "metadata": {},
   "outputs": [],
   "source": [
    "def linearRegression(X, Y):\n",
    "    Vars = np.matmul(np.linalg.inv(np.matmul(X.transpose(), X)), np.matmul(X.transpose(), Y))\n",
    "    return Vars"
   ]
  },
  {
   "cell_type": "code",
   "execution_count": 120,
   "id": "e217f247-de0c-4621-b042-3fe00ddf36e9",
   "metadata": {},
   "outputs": [],
   "source": [
    "T_p, T_d, C = linearRegression(Z[0], Z[1])"
   ]
  },
  {
   "cell_type": "code",
   "execution_count": 121,
   "id": "84087874-0aa4-41d0-a52d-7ef3337bf22f",
   "metadata": {},
   "outputs": [
    {
     "name": "stdout",
     "output_type": "stream",
     "text": [
      "8.817541768843517e-08 4.6558786390917547e-07 0.00010648845090977291\n",
      "5.280245629845659\n"
     ]
    }
   ],
   "source": [
    "print(T_p, T_d, C)\n",
    "print(T_d/T_p)"
   ]
  },
  {
   "cell_type": "code",
   "execution_count": 122,
   "id": "3f468741-0da6-41af-9f32-869fddbeac3c",
   "metadata": {},
   "outputs": [],
   "source": [
    "ratio = T_d/T_p\n",
    "Value = np.sqrt(2 * X[:,1] * (X[:,1]-1) * (X[:,0]-1) * ratio)"
   ]
  },
  {
   "cell_type": "code",
   "execution_count": 123,
   "id": "7cec6e67-9a8b-4504-9024-3f52c48089d6",
   "metadata": {},
   "outputs": [
    {
     "name": "stdout",
     "output_type": "stream",
     "text": [
      "[  952.64490527  4167.2082024   2029.59399401 14486.46212227\n",
      " 10696.4273801   6525.70353583  9260.17244539 29832.92135247\n",
      " 11003.63335554  5656.54093984 37078.11287872 18537.38331219\n",
      "  5057.25032038 15005.70242616  5278.13464808  3943.46071914\n",
      " 39005.47229567 29780.0099438  36535.34867859  9260.17244539\n",
      " 20834.50675044 28785.15823283 22454.67399152 21825.71192496\n",
      "  1177.09133195  4028.98461579 35346.30877845 21241.45250279\n",
      "  5985.90839177 25481.02870627 39513.03553645 21725.39788281\n",
      " 15362.512104   19017.97482448 12085.68798648  4927.50364069\n",
      " 30821.71400288 31436.16142421 10176.89611573 14306.73864362\n",
      " 24227.8733796  30981.00478332 30380.66199342 40755.1863365\n",
      " 42504.90009524 26711.3354225   4616.36200849 19826.06311354\n",
      "  4111.30379613 27604.44055938 42087.53083415   770.61571167\n",
      " 36535.34867859 37078.11287872  8614.00249822   737.40948413\n",
      " 27933.46895792 44254.61360328 23037.0224999   7779.24338552\n",
      "  4729.1421696  16527.49151708  3990.56341226 34399.13306224\n",
      "  7464.44936541 20518.28202777 16606.96888224  3990.56341226\n",
      "   530.30602186 21084.24857179  5985.90839177  3093.15023197\n",
      " 42087.53083415 25533.16645484 37078.11287872 15382.62002089\n",
      " 29125.61900027 37255.75793587 26170.63893407 29093.67339389\n",
      " 27137.74057958  9368.12480452   591.05622039  8948.71709594\n",
      " 10570.54479035 20123.54243838  5668.64381627  8100.71823814\n",
      " 16857.77410973 14471.73239678 38103.00133677  4369.73707637\n",
      "  6620.33248452  3244.40831515 37344.96827233 11900.88083078\n",
      "  9584.02450087 42504.90009524 11274.07884011 10246.94046901\n",
      " 33756.32807666 10910.35048911  5022.45507509  2119.03076932\n",
      "  4616.36200849 18392.14820656  8097.68975538  9914.71535654\n",
      " 10087.11260327 18854.17070098 10494.98935503 16529.60319593\n",
      " 36657.10060229 10867.90807061 16319.82736542  4028.98461579\n",
      " 13158.05274986 33764.58187097 18669.19663007 12456.59635178\n",
      " 30945.7104793  25749.84201454  1973.96538409  2163.83934358\n",
      "  2793.84933333 39656.22801067  2693.46166756 25697.8778507\n",
      " 29780.0099438    737.40948413 27164.6372224  15691.49257596\n",
      " 20851.30197265 19464.35106064 22941.18008642 15382.62002089\n",
      " 21248.80297501 42504.90009524 41110.68655446   551.46978408\n",
      " 13909.55562287 19789.5983949  33218.55621655 27710.89040788\n",
      " 27922.42913602  7320.63921709 12596.12737684  8614.00249822\n",
      " 16062.42710026 29762.45747544 38868.86470236 12587.20599841\n",
      " 27710.89040788 18538.5310497   3763.88117101  3990.56341226\n",
      " 46972.72634844  5736.56367325 11717.93941752 20851.30197265\n",
      " 34848.62543322  6518.22530264  1002.24216617 11472.27626481\n",
      " 18464.01844159 22436.0033213  20425.92243952 32121.18661617\n",
      "  6400.8576483  31344.95356454  9769.19120145 16049.42267208\n",
      " 19243.81409832 11329.56428848 11251.75318682  1000.06484659\n",
      "   952.64490527 28507.17948646 18552.46546765 30250.87768364\n",
      "  6722.87220377 18538.5310497   9760.53786238 12759.66353203\n",
      "  2470.50348597   974.83661543 14497.38932782 20123.54243838\n",
      "  5409.58040318 31533.60697176 38417.60257199 10353.71072443\n",
      " 33218.55621655   886.88723897   693.63546766 29184.07448237\n",
      " 10426.20813481  3968.15677826  3990.56341226  5309.77135522\n",
      " 18237.64908663  7941.88097456 16444.76919075 20123.54243838\n",
      "  9033.21606998 37312.46660203 15362.512104   41401.73816605\n",
      " 14306.49785477 11224.91778377 19202.44346026 11914.35034496\n",
      " 17653.12093079   911.14234907 21646.89508462 31533.60697176\n",
      " 45253.4559694  22941.18008642 22572.54448661  8790.12510063\n",
      " 26923.29479142 12587.20599841  2154.66756538  8900.67124061\n",
      " 16815.46644151 18537.38331219   666.77339101 37077.99988314\n",
      " 15555.95814807 19063.67122029 13867.47080149  8100.71823814\n",
      " 21469.5914355  13928.53182005 18806.12861257 30343.32108151\n",
      "   950.41253237 16486.77116202  5409.58040318 42087.53083415\n",
      " 46175.52363821 25035.50220739 38904.15489929 32407.90043348\n",
      " 38103.00133677 37255.75793587 12962.55093223 19362.70742347\n",
      " 22572.54448661  8541.77882728  3819.1070131   8192.65714879\n",
      " 18552.46546765 39692.29091107 41280.75138686 32589.61551206\n",
      " 16885.88909286  9148.60145052  5342.88901457  1745.93026541\n",
      " 15405.75332752  6970.71387205 20392.27767821 27307.83969847\n",
      "  4411.89917765  1514.64443983  5478.43990923 22627.26994346\n",
      " 11909.46227295 15622.49531447 19362.70742347 19202.44346026\n",
      " 19362.70742347 22343.7120518   9584.02450087 32501.39467629\n",
      " 24227.8733796  24319.52922246 21786.44523506 29125.61900027\n",
      " 22539.58831056 27767.93600296 23220.54498811  1745.93026541\n",
      " 13328.35136203 49503.75287436 29125.61900027 29125.61900027\n",
      " 37842.46568058 20994.33463795 28944.2768917  19163.01407192\n",
      " 24624.58981135 31533.60697176 31376.13623801 35421.2910487\n",
      "  6387.11445685 23519.51799125 26856.15649707 31533.60697176]\n"
     ]
    }
   ],
   "source": [
    "print(Value-X[:,0])"
   ]
  },
  {
   "cell_type": "code",
   "execution_count": 124,
   "id": "46d1ae39-450a-495d-8f3a-ab1f2fdc7299",
   "metadata": {},
   "outputs": [],
   "source": [
    "#conclusion: In 1-dimensional case, the most optimized version of the grid is where the grid size is equal to the ball size radius 0.004\n",
    "#This is true for most grid sizes unless the balls are very small in size"
   ]
  },
  {
   "cell_type": "code",
   "execution_count": null,
   "id": "295b4373-0656-4f9b-a2a3-81dfa0c23e05",
   "metadata": {},
   "outputs": [],
   "source": []
  }
 ],
 "metadata": {
  "kernelspec": {
   "display_name": "Python 3 (ipykernel)",
   "language": "python",
   "name": "python3"
  },
  "language_info": {
   "codemirror_mode": {
    "name": "ipython",
    "version": 3
   },
   "file_extension": ".py",
   "mimetype": "text/x-python",
   "name": "python",
   "nbconvert_exporter": "python",
   "pygments_lexer": "ipython3",
   "version": "3.10.9"
  }
 },
 "nbformat": 4,
 "nbformat_minor": 5
}
