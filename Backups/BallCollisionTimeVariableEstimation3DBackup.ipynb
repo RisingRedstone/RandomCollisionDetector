{
 "cells": [
  {
   "cell_type": "code",
   "execution_count": 5,
   "id": "18fc0106-2aa3-4a92-94fc-bea5447d050a",
   "metadata": {},
   "outputs": [],
   "source": [
    "# In this notebook, we estimate the time constants T_d and T_p using linear regression by taking time estimations E[T] of many points with different N and K values for 3 dimensional case\n",
    "# Here the grid is assumed to be a square partition\n",
    "\n",
    "'''\n",
    "Conclusion:\n",
    "This one did not work as I used python which did not give proper time reads.\n",
    "The final one used c++ data which gave proper time steps and data.\n",
    "'''"
   ]
  },
  {
   "cell_type": "code",
   "execution_count": 3,
   "id": "24859cca-b292-4335-a549-26d9a573db4e",
   "metadata": {},
   "outputs": [],
   "source": [
    "import numpy as np\n",
    "import random\n",
    "import time\n",
    "import math"
   ]
  },
  {
   "cell_type": "code",
   "execution_count": 4,
   "id": "1c3e12c2-71de-4dc5-9ce2-0ecc9970a6b3",
   "metadata": {},
   "outputs": [],
   "source": [
    "def CollisionCalc(P0, P1, R):\n",
    "    return ((P0[0]-P1[0])**2 +  (P0[1]-P1[1])**2 +  (P0[2]-P1[2])**2 ) < (4 * R * R)\n",
    "\n",
    "def TotalCollisions(Points, R):\n",
    "    calc=  0\n",
    "    for i in range(len(Points)):\n",
    "        j = i+1\n",
    "        while j < len(Points):\n",
    "            calc+=CollisionCalc(Points[i], Points[j], R)\n",
    "            j+=1\n",
    "\n",
    "    return calc"
   ]
  },
  {
   "cell_type": "code",
   "execution_count": 5,
   "id": "57613c40-eb79-45f8-bfe5-5fe0fcf417ce",
   "metadata": {},
   "outputs": [],
   "source": [
    "def generateSample(N, K, Samples=1000):\n",
    "    Dataset = []\n",
    "    DatasetK = np.random.random((Samples, K, 3))\n",
    "    for S in range(Samples):\n",
    "        Partitions = [[[[] for x in range(N)] for x in range(N)] for x in range(N)]\n",
    "\n",
    "        for i in range(K):\n",
    "            x = int((DatasetK[S][i][0]*N)-(1e-5))\n",
    "            y = int((DatasetK[S][i][1]*N)-(1e-5))\n",
    "            z = int((DatasetK[S][i][2]*N)-(1e-5))\n",
    "            Partitions[x][y][z].append(DatasetK[S][i])\n",
    "        Dataset.append(Partitions)\n",
    "    return Dataset"
   ]
  },
  {
   "cell_type": "code",
   "execution_count": 6,
   "id": "39c1ddca-457b-4e6a-82f0-ad40c77192a2",
   "metadata": {},
   "outputs": [],
   "source": [
    "def SampleTest(Dataset, R=0.004):\n",
    "    Cols = []\n",
    "    N, M, O = (len(Dataset[0]), len(Dataset[0][0]), len(Dataset[0][0][0]))\n",
    "    tTot = 0\n",
    "    for dat in Dataset:\n",
    "        Cols.append(0)\n",
    "        tstart = time.time()\n",
    "        for i in range(N-1):\n",
    "            for j in range(M-1):\n",
    "                for k in range(O-1):\n",
    "                    Cols[-1]+=TotalCollisions(dat[i][j][k]+dat[i+1][j][k]+dat[i][j+1][k]+dat[i+1][j+1][k]\n",
    "                                              +dat[i][j][k+1]+dat[i+1][j][k+1]+dat[i][j+1][k+1]+dat[i+1][j+1][k+1], R)\n",
    "        tTot += (time.time() - tTot)\n",
    "    return tTot"
   ]
  },
  {
   "cell_type": "code",
   "execution_count": 7,
   "id": "ebc89da4-8846-4044-9f19-52151680dc5b",
   "metadata": {},
   "outputs": [],
   "source": [
    "def EstimateTimeSample(N, K, R=0.004, Samples=1000):\n",
    "    DataSet = generateSample(N, K, Samples=Samples)\n",
    "    return SampleTest(DataSet, R = R)/Samples"
   ]
  },
  {
   "cell_type": "code",
   "execution_count": 8,
   "id": "496df16c-e0a9-48b2-b881-8064fcfd3b7b",
   "metadata": {},
   "outputs": [],
   "source": [
    "def DataSet(Nlow, Nhigh, Nstep, Klow, Khigh, Kstep, Samples = 20, SamplesPer = 100):\n",
    "    timeSteps = []\n",
    "    for i in range(Samples):\n",
    "        N = random.randint(int(Nlow/Nstep), int(Nhigh/Nstep))*Nstep\n",
    "        K = random.randint(int(Klow/Kstep), int(Khigh/Kstep))*Kstep\n",
    "        timeSteps.append([N, K, EstimateTimeSample(N, K, R=0.15, Samples=SamplesPer)])\n",
    "    return timeSteps"
   ]
  },
  {
   "cell_type": "code",
   "execution_count": 23,
   "id": "39c54090-ae4f-477e-8727-82b8cf35d5a2",
   "metadata": {},
   "outputs": [],
   "source": [
    "def DataSetPrep(Dataset):\n",
    "    #change the (N, K, E[T]) fields in dataset to (N, 32K(K-1)(N-1)^3/N^6, E[T])\n",
    "    Dat = []\n",
    "    for x in range(len(Dataset)):\n",
    "        n = Dataset[x][0]\n",
    "        k = Dataset[x][1]\n",
    "        t = Dataset[x][2]\n",
    "        # Dat.append([n, 32*k*(k-1)*(((n-1)/(n*n))**3), t])\n",
    "        Dat.append([n, 32*k*(k-1)*(((n-1)/(n*n))**3), t, k])\n",
    "    return Dat"
   ]
  },
  {
   "cell_type": "code",
   "execution_count": 10,
   "id": "98d1adbc-c14f-4a9c-adc2-da37beab0949",
   "metadata": {},
   "outputs": [],
   "source": [
    "X = np.array(DataSet(7, 15, 1, 20, 300, 10, Samples=200, SamplesPer = 100))"
   ]
  },
  {
   "cell_type": "code",
   "execution_count": 24,
   "id": "d54261c9-9160-4f58-a6a0-871acb0e3a8d",
   "metadata": {},
   "outputs": [],
   "source": [
    "Y = DataSetPrep(X)"
   ]
  },
  {
   "cell_type": "code",
   "execution_count": 25,
   "id": "cda56126-ff62-4818-bba7-0f8c25da290d",
   "metadata": {},
   "outputs": [],
   "source": [
    "def SampleDatasetToLinearRegForm(Dataset):\n",
    "    X = []\n",
    "    Y = []\n",
    "    for d in Dataset:\n",
    "        X.append([d[0], d[1], 1])\n",
    "        Y.append(d[2])\n",
    "    return (np.array(X), np.array(Y))"
   ]
  },
  {
   "cell_type": "code",
   "execution_count": 26,
   "id": "d81a9e95-693a-473e-9355-0403734ab9f8",
   "metadata": {},
   "outputs": [],
   "source": [
    "Z = SampleDatasetToLinearRegForm(Y)"
   ]
  },
  {
   "cell_type": "code",
   "execution_count": 27,
   "id": "ea1d85e5-9f73-4341-a11b-a51a21002ea0",
   "metadata": {},
   "outputs": [],
   "source": [
    "def linearRegression(X, Y):\n",
    "    Vars = np.matmul(np.linalg.inv(np.matmul(X.transpose(), X)), np.matmul(X.transpose(), Y))\n",
    "    return Vars"
   ]
  },
  {
   "cell_type": "code",
   "execution_count": 28,
   "id": "c4573812-dcf5-47f0-af04-2465eb41eb97",
   "metadata": {},
   "outputs": [],
   "source": [
    "T_p, T_d, C = linearRegression(Z[0], Z[1])"
   ]
  },
  {
   "cell_type": "code",
   "execution_count": 29,
   "id": "d5879b9f-3a8b-4531-8b11-14db712125fa",
   "metadata": {},
   "outputs": [
    {
     "name": "stdout",
     "output_type": "stream",
     "text": [
      "-0.010435827076435089 4.097935743629932e-06 17031822.2612077\n",
      "-0.00039267953690832905\n"
     ]
    }
   ],
   "source": [
    "print(T_p, T_d, C)\n",
    "print(T_d/T_p)"
   ]
  },
  {
   "cell_type": "code",
   "execution_count": 17,
   "id": "146f65e8-9bb7-4206-a57a-88032e3bbd47",
   "metadata": {},
   "outputs": [
    {
     "name": "stderr",
     "output_type": "stream",
     "text": [
      "C:\\Users\\prath\\AppData\\Local\\Temp\\ipykernel_12272\\537300113.py:2: RuntimeWarning: invalid value encountered in power\n",
      "  Value = np.power(32 * X[:,1] * (X[:,1]-1) * ratio, (1/6))\n"
     ]
    }
   ],
   "source": [
    "ratio = T_d/T_p\n",
    "Value = np.power(32 * X[:,1] * (X[:,1]-1) * ratio, (1/6))"
   ]
  },
  {
   "cell_type": "code",
   "execution_count": 18,
   "id": "be6bfdc1-7763-4f5f-8c27-57eb9e3663ce",
   "metadata": {},
   "outputs": [
    {
     "name": "stdout",
     "output_type": "stream",
     "text": [
      "nan 9.0 30.0\n",
      "nan 8.0 130.0\n",
      "nan 11.0 130.0\n",
      "nan 10.0 190.0\n",
      "nan 7.0 170.0\n",
      "nan 13.0 120.0\n",
      "nan 13.0 60.0\n",
      "nan 9.0 250.0\n",
      "nan 15.0 250.0\n",
      "nan 8.0 100.0\n",
      "nan 12.0 100.0\n",
      "nan 13.0 60.0\n",
      "nan 15.0 260.0\n",
      "nan 7.0 250.0\n",
      "nan 12.0 50.0\n",
      "nan 9.0 250.0\n",
      "nan 14.0 20.0\n",
      "nan 14.0 220.0\n",
      "nan 10.0 300.0\n",
      "nan 11.0 150.0\n",
      "nan 15.0 260.0\n",
      "nan 9.0 100.0\n",
      "nan 7.0 110.0\n",
      "nan 15.0 110.0\n",
      "nan 11.0 280.0\n",
      "nan 9.0 270.0\n",
      "nan 9.0 220.0\n",
      "nan 9.0 130.0\n",
      "nan 14.0 70.0\n",
      "nan 7.0 180.0\n",
      "nan 15.0 20.0\n",
      "nan 12.0 270.0\n",
      "nan 7.0 130.0\n",
      "nan 13.0 190.0\n",
      "nan 11.0 140.0\n",
      "nan 15.0 200.0\n",
      "nan 9.0 170.0\n",
      "nan 13.0 60.0\n",
      "nan 8.0 90.0\n",
      "nan 9.0 150.0\n",
      "nan 12.0 90.0\n",
      "nan 11.0 140.0\n",
      "nan 13.0 60.0\n",
      "nan 12.0 60.0\n",
      "nan 13.0 190.0\n",
      "nan 15.0 70.0\n",
      "nan 8.0 210.0\n",
      "nan 15.0 290.0\n",
      "nan 10.0 230.0\n",
      "nan 9.0 20.0\n",
      "nan 14.0 230.0\n",
      "nan 8.0 200.0\n",
      "nan 15.0 50.0\n",
      "nan 12.0 190.0\n",
      "nan 13.0 190.0\n",
      "nan 13.0 20.0\n",
      "nan 10.0 120.0\n",
      "nan 7.0 100.0\n",
      "nan 13.0 60.0\n",
      "nan 8.0 190.0\n",
      "nan 13.0 180.0\n",
      "nan 7.0 300.0\n",
      "nan 12.0 240.0\n",
      "nan 9.0 60.0\n",
      "nan 12.0 250.0\n",
      "nan 7.0 290.0\n",
      "nan 10.0 260.0\n",
      "nan 11.0 260.0\n",
      "nan 11.0 290.0\n",
      "nan 9.0 110.0\n",
      "nan 8.0 300.0\n",
      "nan 12.0 70.0\n",
      "nan 13.0 70.0\n",
      "nan 14.0 90.0\n",
      "nan 13.0 150.0\n",
      "nan 14.0 80.0\n",
      "nan 11.0 180.0\n",
      "nan 7.0 50.0\n",
      "nan 10.0 200.0\n",
      "nan 12.0 70.0\n",
      "nan 13.0 230.0\n",
      "nan 12.0 30.0\n",
      "nan 10.0 110.0\n",
      "nan 11.0 30.0\n",
      "nan 12.0 250.0\n",
      "nan 9.0 60.0\n",
      "nan 12.0 290.0\n",
      "nan 14.0 270.0\n",
      "nan 14.0 250.0\n",
      "nan 10.0 90.0\n",
      "nan 9.0 90.0\n",
      "nan 10.0 140.0\n",
      "nan 10.0 80.0\n",
      "nan 11.0 190.0\n",
      "nan 14.0 220.0\n",
      "nan 8.0 120.0\n",
      "nan 8.0 250.0\n",
      "nan 10.0 180.0\n",
      "nan 9.0 250.0\n",
      "nan 7.0 230.0\n",
      "nan 15.0 190.0\n",
      "nan 15.0 30.0\n",
      "nan 9.0 20.0\n",
      "nan 8.0 50.0\n",
      "nan 12.0 190.0\n",
      "nan 13.0 170.0\n",
      "nan 13.0 30.0\n",
      "nan 11.0 110.0\n",
      "nan 10.0 80.0\n",
      "nan 9.0 240.0\n",
      "nan 15.0 270.0\n",
      "nan 12.0 290.0\n",
      "nan 7.0 30.0\n",
      "nan 12.0 220.0\n",
      "nan 8.0 220.0\n",
      "nan 8.0 270.0\n",
      "nan 7.0 120.0\n",
      "nan 8.0 140.0\n",
      "nan 8.0 40.0\n",
      "nan 12.0 30.0\n",
      "nan 14.0 40.0\n",
      "nan 12.0 60.0\n",
      "nan 12.0 290.0\n",
      "nan 10.0 80.0\n",
      "nan 7.0 40.0\n",
      "nan 14.0 60.0\n",
      "nan 13.0 200.0\n",
      "nan 9.0 30.0\n",
      "nan 11.0 230.0\n",
      "nan 8.0 290.0\n",
      "nan 10.0 50.0\n",
      "nan 7.0 130.0\n",
      "nan 13.0 170.0\n",
      "nan 7.0 40.0\n",
      "nan 10.0 40.0\n",
      "nan 11.0 40.0\n",
      "nan 9.0 250.0\n",
      "nan 13.0 300.0\n",
      "nan 12.0 200.0\n",
      "nan 10.0 170.0\n",
      "nan 13.0 240.0\n",
      "nan 14.0 40.0\n",
      "nan 10.0 100.0\n",
      "nan 14.0 200.0\n",
      "nan 7.0 180.0\n",
      "nan 9.0 270.0\n",
      "nan 13.0 270.0\n",
      "nan 11.0 270.0\n",
      "nan 8.0 40.0\n",
      "nan 12.0 250.0\n",
      "nan 12.0 20.0\n",
      "nan 12.0 250.0\n",
      "nan 11.0 230.0\n",
      "nan 10.0 50.0\n",
      "nan 15.0 100.0\n",
      "nan 8.0 160.0\n",
      "nan 8.0 240.0\n",
      "nan 8.0 260.0\n",
      "nan 14.0 50.0\n",
      "nan 13.0 140.0\n",
      "nan 7.0 290.0\n",
      "nan 9.0 230.0\n",
      "nan 10.0 30.0\n",
      "nan 8.0 60.0\n",
      "nan 9.0 70.0\n",
      "nan 9.0 30.0\n",
      "nan 13.0 170.0\n",
      "nan 10.0 140.0\n",
      "nan 13.0 240.0\n",
      "nan 13.0 100.0\n",
      "nan 13.0 290.0\n",
      "nan 9.0 80.0\n",
      "nan 7.0 190.0\n",
      "nan 11.0 120.0\n",
      "nan 8.0 170.0\n",
      "nan 8.0 150.0\n",
      "nan 13.0 220.0\n",
      "nan 8.0 180.0\n",
      "nan 15.0 270.0\n",
      "nan 9.0 170.0\n",
      "nan 9.0 180.0\n",
      "nan 12.0 250.0\n",
      "nan 13.0 200.0\n",
      "nan 14.0 220.0\n",
      "nan 15.0 270.0\n",
      "nan 9.0 20.0\n",
      "nan 14.0 50.0\n",
      "nan 14.0 230.0\n",
      "nan 9.0 180.0\n",
      "nan 7.0 170.0\n",
      "nan 7.0 230.0\n",
      "nan 10.0 80.0\n",
      "nan 9.0 70.0\n",
      "nan 14.0 260.0\n",
      "nan 10.0 280.0\n",
      "nan 13.0 230.0\n",
      "nan 13.0 250.0\n",
      "nan 8.0 280.0\n",
      "nan 8.0 30.0\n",
      "nan 10.0 180.0\n"
     ]
    }
   ],
   "source": [
    "for i in range(len(Value)):\n",
    "    print(Value[i], X[:,0][i], X[:, 1][i])"
   ]
  },
  {
   "cell_type": "code",
   "execution_count": 19,
   "id": "6241c9e2-c81f-4c31-963d-821cf954d4bd",
   "metadata": {},
   "outputs": [],
   "source": [
    "# Here we can see that the recommended grid size is almost always lower than the random value chosen. \n",
    "# In the next experiment we check if the calculated value is actually the best approximation for some values"
   ]
  },
  {
   "cell_type": "code",
   "execution_count": 20,
   "id": "062058e9-7408-4572-b35c-d40c24c77dd2",
   "metadata": {},
   "outputs": [],
   "source": [
    "def linearDataSet(Nlow, Nhigh, Nstep, K, R=0.15, Samples=100):\n",
    "    X = [int((x*Nstep)+Nlow) for x in range(int((Nhigh-Nlow)/Nstep)+1)]\n",
    "    timeStep = []\n",
    "    for x in X:\n",
    "        timeStep.append([x, EstimateTimeSample(x, K, R=R, Samples=Samples)])\n",
    "    return timeStep"
   ]
  },
  {
   "cell_type": "code",
   "execution_count": 21,
   "id": "da54d559-207d-44d3-b712-0e3a6ee45d34",
   "metadata": {},
   "outputs": [
    {
     "data": {
      "text/plain": [
       "[<matplotlib.lines.Line2D at 0x2aec4cc0430>]"
      ]
     },
     "execution_count": 21,
     "metadata": {},
     "output_type": "execute_result"
    },
    {
     "data": {
      "image/png": "[encoded data removed]",
      "text/plain": [
       "<Figure size 640x480 with 1 Axes>"
      ]
     },
     "metadata": {},
     "output_type": "display_data"
    }
   ],
   "source": [
    "NumCount = 5\n",
    "Dat = np.array([(np.argmin(np.array(linearDataSet(2, 15, 1, (80*x+10), R=0.15, Samples=100))[:, 1]) + 2) for x in range(NumCount)])\n",
    "\n",
    "import matplotlib.pyplot as plt\n",
    "plt.plot([(80*x+10) for x in range(NumCount)], Dat)"
   ]
  },
  {
   "cell_type": "code",
   "execution_count": 22,
   "id": "0b2905c3-4cb2-4fd6-b67d-137cb96ac599",
   "metadata": {},
   "outputs": [],
   "source": [
    "#Practice doest quite seem to fit theory. Will have to make a better model.\n",
    "#Making the same model in cpp for better cpu control and see whats really going wrong here"
   ]
  },
  {
   "cell_type": "code",
   "execution_count": null,
   "id": "f201b9e8-3308-495d-b7e1-cb31164725d6",
   "metadata": {},
   "outputs": [],
   "source": [
    "#This experiment was again done in C++ and then python was used for data analysis and plotting. That one is in DataAnalyzer"
   ]
  }
 ],
 "metadata": {
  "kernelspec": {
   "display_name": "Python 3 (ipykernel)",
   "language": "python",
   "name": "python3"
  },
  "language_info": {
   "codemirror_mode": {
    "name": "ipython",
    "version": 3
   },
   "file_extension": ".py",
   "mimetype": "text/x-python",
   "name": "python",
   "nbconvert_exporter": "python",
   "pygments_lexer": "ipython3",
   "version": "3.10.9"
  }
 },
 "nbformat": 4,
 "nbformat_minor": 5
}
