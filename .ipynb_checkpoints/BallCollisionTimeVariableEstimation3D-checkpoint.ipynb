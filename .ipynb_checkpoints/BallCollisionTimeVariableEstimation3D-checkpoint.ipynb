{
 "cells": [
  {
   "cell_type": "code",
   "execution_count": 5,
   "id": "8da5c680-f600-4fa6-a408-321c03e9fc0b",
   "metadata": {},
   "outputs": [],
   "source": [
    "import pandas as pd\n",
    "import matplotlib.pyplot as plt\n",
    "import numpy as np"
   ]
  },
  {
   "cell_type": "code",
   "execution_count": 6,
   "id": "e62b1119-a74d-4982-a7d7-ee109ed54afa",
   "metadata": {},
   "outputs": [],
   "source": [
    "#First we approximate the values of T_P and T_D"
   ]
  },
  {
   "cell_type": "code",
   "execution_count": 7,
   "id": "04b888e2-5142-4ac2-8f99-8654fc143a36",
   "metadata": {},
   "outputs": [],
   "source": [
    "A = pd.read_csv(\"RandomBallCollisionDetectorTimeEstimation3D/RandomBallCollisionDetectorTimeEstimation3D/Data.csv\")"
   ]
  },
  {
   "cell_type": "code",
   "execution_count": 8,
   "id": "c0206159-09c0-490b-9844-52a5f8074f1c",
   "metadata": {},
   "outputs": [],
   "source": [
    "B = A.to_numpy()"
   ]
  },
  {
   "cell_type": "code",
   "execution_count": 9,
   "id": "d8197acc-8c84-46d7-ac1c-c7c1fe370835",
   "metadata": {},
   "outputs": [],
   "source": [
    "def DataSetPrep(Dataset):\n",
    "    #change the (N, K, E[T]) fields in dataset to (N, 32K(K-1)(N-1)^3/N^6, E[T])\n",
    "    Dat = []\n",
    "    for x in range(len(Dataset)):\n",
    "        n = Dataset[x][0]\n",
    "        k = Dataset[x][1]\n",
    "        t = Dataset[x][2]\n",
    "        Dat.append([n**3, 32*k*(k-1)*(((n-1)/(n*n))**3), t])\n",
    "    return Dat"
   ]
  },
  {
   "cell_type": "code",
   "execution_count": 10,
   "id": "9db2b8ff-ce80-49ae-980c-c2d36045cfc3",
   "metadata": {},
   "outputs": [],
   "source": [
    "def SampleDatasetToLinearRegForm(Dataset):\n",
    "    X = []\n",
    "    Y = []\n",
    "    for d in Dataset:\n",
    "        X.append([d[0], d[1], 1])\n",
    "        Y.append(d[2])\n",
    "    return (np.array(X), np.array(Y))"
   ]
  },
  {
   "cell_type": "code",
   "execution_count": 11,
   "id": "96c8fcca-ae39-4275-8eab-87e463744da1",
   "metadata": {},
   "outputs": [],
   "source": [
    "C = DataSetPrep(B)"
   ]
  },
  {
   "cell_type": "code",
   "execution_count": 12,
   "id": "38225118-ca50-4f5c-8276-c6b2b3c0045d",
   "metadata": {},
   "outputs": [],
   "source": [
    "D = SampleDatasetToLinearRegForm(C)"
   ]
  },
  {
   "cell_type": "code",
   "execution_count": 13,
   "id": "1449d64c-47ea-4e4e-aa2c-4f6901d8bf62",
   "metadata": {},
   "outputs": [],
   "source": [
    "def linearRegression(X, Y):\n",
    "    Vars = np.matmul(np.linalg.inv(np.matmul(X.transpose(), X)), np.matmul(X.transpose(), Y))\n",
    "    return Vars"
   ]
  },
  {
   "cell_type": "code",
   "execution_count": 14,
   "id": "89c324f1-013c-4930-9c51-1b0cbda3e732",
   "metadata": {},
   "outputs": [],
   "source": [
    "T_p, T_d, C = linearRegression(D[0], D[1])"
   ]
  },
  {
   "cell_type": "code",
   "execution_count": 15,
   "id": "23ce3607-ba92-4dc9-8142-fe868c1d6ea3",
   "metadata": {},
   "outputs": [
    {
     "name": "stdout",
     "output_type": "stream",
     "text": [
      "0.0001389100022844617 2.873268245571894e-05 0.028829640310304994\n",
      "0.20684387001074106\n"
     ]
    }
   ],
   "source": [
    "print(T_p, T_d, C)\n",
    "print(T_d/T_p)"
   ]
  },
  {
   "cell_type": "code",
   "execution_count": 18,
   "id": "1613bf4c-c3f8-4c5f-8b5f-ebc3126efe5a",
   "metadata": {},
   "outputs": [],
   "source": [
    "#Now we bring in the checker data to check if the algorithm is correct or not"
   ]
  },
  {
   "cell_type": "code",
   "execution_count": 19,
   "id": "7a5dec2e-b3a6-4beb-b231-055f3b467a0b",
   "metadata": {},
   "outputs": [],
   "source": [
    "DataChecker = pd.read_csv(\"RandomBallCollisionDetectorTimeEstimation3D/RandomBallCollisionDetectorTimeEstimation3D/MinData.csv\").to_numpy()"
   ]
  },
  {
   "cell_type": "code",
   "execution_count": 20,
   "id": "f24a743c-015d-4ab7-81c9-351b85fc059e",
   "metadata": {},
   "outputs": [],
   "source": [
    "def CorrectFunction(Y):\n",
    "    ratio = 0.2\n",
    "    return (np.power(32 * Y * (Y-1) * ratio, (1/6))).astype(np.int32)"
   ]
  },
  {
   "cell_type": "code",
   "execution_count": 21,
   "id": "47828b40-428f-482f-a88a-c129f7f59a04",
   "metadata": {},
   "outputs": [],
   "source": [
    "X = DataChecker[:,0]\n",
    "Y = CorrectFunction(X)"
   ]
  },
  {
   "cell_type": "code",
   "execution_count": 38,
   "id": "9b503375-5990-4279-addb-19e4658528b0",
   "metadata": {},
   "outputs": [
    {
     "data": {
      "text/plain": [
       "[<matplotlib.lines.Line2D at 0x193cafb9ae0>]"
      ]
     },
     "execution_count": 38,
     "metadata": {},
     "output_type": "execute_result"
    },
    {
     "data": {
      "image/png": "[encoded data removed]",
      "text/plain": [
       "<Figure size 640x480 with 1 Axes>"
      ]
     },
     "metadata": {},
     "output_type": "display_data"
    }
   ],
   "source": [
    "plt.scatter(DataChecker[:,0], DataChecker[:,1], color = 'green', alpha = (1/5))\n",
    "plt.plot(X, Y, color='red')"
   ]
  },
  {
   "cell_type": "code",
   "execution_count": 23,
   "id": "b5ac8acb-6bc7-4994-adc3-edd8dd704a4f",
   "metadata": {},
   "outputs": [],
   "source": [
    "#we see that the prediciton fits pretty well top the data. The only places its having problems is on low values of K\n",
    "#This is because low K value requires low N values as we made this approximation N-1 ≈ N, which creates in accuracies on lower N values"
   ]
  }
 ],
 "metadata": {
  "kernelspec": {
   "display_name": "Python 3 (ipykernel)",
   "language": "python",
   "name": "python3"
  },
  "language_info": {
   "codemirror_mode": {
    "name": "ipython",
    "version": 3
   },
   "file_extension": ".py",
   "mimetype": "text/x-python",
   "name": "python",
   "nbconvert_exporter": "python",
   "pygments_lexer": "ipython3",
   "version": "3.10.9"
  }
 },
 "nbformat": 4,
 "nbformat_minor": 5
}
